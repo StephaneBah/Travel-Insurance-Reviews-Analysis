{
  "cells": [
    {
      "cell_type": "code",
      "execution_count": null,
      "metadata": {},
      "outputs": [],
      "source": [
        "import os\n",
        "from dotenv import load_dotenv\n",
        "\n",
        "load_dotenv()"
      ]
    },
    {
      "cell_type": "code",
      "execution_count": null,
      "metadata": {
        "id": "gtE2SlYBYP4J"
      },
      "outputs": [],
      "source": [
        "from huggingface_hub import InferenceClient\n",
        "def review_sentiment(text):\n",
        "  client = InferenceClient(\n",
        "  \"distilbert/distilbert-base-uncased-finetuned-sst-2-english\",\n",
        "  api_key=os.getenv(\"HUGGINGFACE_TOKEN\")\n",
        "  )\n",
        "  result = client.text_classification(text)\n",
        "  sentiment = result[0]['label']\n",
        "  return sentiment"
      ]
    },
    {
      "cell_type": "markdown",
      "metadata": {
        "id": "pVpon5cW4Cez"
      },
      "source": [
        "## Scraping"
      ]
    },
    {
      "cell_type": "code",
      "execution_count": null,
      "metadata": {
        "id": "hZXvxppBz2f2"
      },
      "outputs": [],
      "source": [
        "from bs4 import BeautifulSoup\n",
        "import requests\n",
        "import pandas as pd\n",
        "import numpy as np"
      ]
    },
    {
      "cell_type": "code",
      "execution_count": null,
      "metadata": {
        "colab": {
          "base_uri": "https://localhost:8080/"
        },
        "id": "Nz3XKdmo62a6",
        "outputId": "b885aa00-5135-4843-8021-56fcf060dacd"
      },
      "outputs": [
        {
          "data": {
            "text/plain": [
              "200"
            ]
          },
          "execution_count": 2,
          "metadata": {},
          "output_type": "execute_result"
        }
      ],
      "source": [
        "base_url = \"https://www.trustpilot.com/review/www.travelinsured.com?page=\"\n",
        "max_page = 10\n",
        "r = requests.get(base_url)\n",
        "r.status_code"
      ]
    },
    {
      "cell_type": "code",
      "execution_count": null,
      "metadata": {
        "id": "gGMEeykn_jBd"
      },
      "outputs": [],
      "source": [
        "html_content = r.text"
      ]
    },
    {
      "cell_type": "code",
      "execution_count": null,
      "metadata": {
        "colab": {
          "base_uri": "https://localhost:8080/"
        },
        "id": "P-7g2MkL_pR1",
        "outputId": "3e4752f5-a7ad-4974-fa55-eebf0da5a08c"
      },
      "outputs": [
        {
          "name": "stdout",
          "output_type": "stream",
          "text": [
            "<!DOCTYPE html><html lang=\"en-US\"><head><meta charSet=\"UTF-8\"/><meta name=\"viewport\" content=\"width=device-width, initial-scale=1\"/><link rel=\"shortcut icon\" type=\"image/x-icon\" href=\"https://cdn.trustpilot.net/brand-assets/4.3.0/favicons/favicon.ico\"/><link rel=\"manifest\" href=\"/manifest.json\"/><meta name=\"application-name\" content=\"Trustpilot\"/><meta name=\"theme-color\" content=\"#1c1c1c\"/><link rel=\"apple-touch-icon\" sizes=\"180x180\" href=\"https://cdn.trustpilot.net/brand-assets/4.3.0/favicons/a\n"
          ]
        }
      ],
      "source": [
        "print(html_content[:500])"
      ]
    },
    {
      "cell_type": "code",
      "execution_count": null,
      "metadata": {
        "id": "zbG390BxnGCo"
      },
      "outputs": [],
      "source": [
        "soup = BeautifulSoup(html_content, 'html.parser')"
      ]
    },
    {
      "cell_type": "code",
      "execution_count": null,
      "metadata": {
        "id": "HRM2Y9YnioNN"
      },
      "outputs": [],
      "source": [
        "reviews_div = soup.find_all('div', {'class': \"styles_cardWrapper__w4HBQ styles_show__Zsi_m styles_reviewCard__vOUqi\"})"
      ]
    },
    {
      "cell_type": "code",
      "execution_count": null,
      "metadata": {
        "colab": {
          "base_uri": "https://localhost:8080/"
        },
        "id": "-pXUzsN-m2VD",
        "outputId": "c5ac29b0-ce31-4914-ebf5-8cbee865421a"
      },
      "outputs": [
        {
          "data": {
            "text/plain": [
              "<div class=\"styles_cardWrapper__w4HBQ styles_show__Zsi_m styles_reviewCard__vOUqi\"><article class=\"paper_paper__EGeEb paper_outline__bqVmn card_card__yyGgu card_noPadding__OOiac styles_reviewCard__6j0RQ\" data-service-review-card-paper=\"true\"><div class=\"styles_reviewCardInner__UZk1x\"><aside aria-label=\"Info for Ellen\" class=\"styles_consumerInfoWrapper__MOCv1\"><div class=\"styles_consumerDetailsWrapper__2XThH\"><div class=\"avatar_avatar__QtS0N avatar_orange__cIcPd\" data-consumer-avatar=\"true\" style=\"width:44px;min-width:44px;height:44px;min-height:44px\"><span class=\"typography_heading-xs__osRhC typography_appearance-default__t8iAq typography_disableResponsiveSizing__z3EGy avatar_avatarName__2WZwR\">EL</span></div><a class=\"link_internal__Eam_b link_wrapper__ahpyq styles_consumerDetails__DW9Hp\" data-consumer-profile-link=\"true\" href=\"/users/67b3b39e633676096ff27769\" name=\"consumer-profile\" rel=\"nofollow\" target=\"_self\"><span class=\"typography_heading-xxs__UmE9o typography_appearance-default__t8iAq\" data-consumer-name-typography=\"true\">Ellen</span><div class=\"styles_consumerExtraDetails__NFM0b\" data-consumer-reviews-count=\"1\"><span class=\"typography_body-m__k2UI7 typography_appearance-subtle__PYOVM\" data-consumer-reviews-count-typography=\"true\">1<!-- --> review</span><div class=\"typography_body-m__k2UI7 typography_appearance-subtle__PYOVM styles_detailsIcon__ch_FY\" data-consumer-country-typography=\"true\"><svg class=\"icon_icon__RdICC\" fill=\"currentColor\" height=\"14px\" viewbox=\"0 0 16 16\" width=\"14px\" xmlns=\"http://www.w3.org/2000/svg\"><path clip-rule=\"evenodd\" d=\"M3.404 1.904A6.5 6.5 0 0 1 14.5 6.5v.01c0 .194 0 .396-.029.627l-.004.03-.023.095c-.267 2.493-1.844 4.601-3.293 6.056a18.723 18.723 0 0 1-2.634 2.19 11.015 11.015 0 0 1-.234.154l-.013.01-.004.002h-.002L8 15.25l-.261.426h-.002l-.004-.003-.014-.009a13.842 13.842 0 0 1-.233-.152 18.388 18.388 0 0 1-2.64-2.178c-1.46-1.46-3.05-3.587-3.318-6.132l-.003-.026v-.068c-.025-.2-.025-.414-.025-.591V6.5a6.5 6.5 0 0 1 1.904-4.596ZM8 15.25l-.261.427.263.16.262-.162L8 15.25Zm-.002-.598a17.736 17.736 0 0 0 2.444-2.04c1.4-1.405 2.79-3.322 3.01-5.488l.004-.035.026-.105c.018-.153.018-.293.018-.484a5.5 5.5 0 0 0-11 0c0 .21.001.371.02.504l.005.035v.084c.24 2.195 1.632 4.109 3.029 5.505a17.389 17.389 0 0 0 2.444 2.024Z\" fill-rule=\"evenodd\"></path><path clip-rule=\"evenodd\" d=\"M8 4a2.5 2.5 0 1 0 0 5 2.5 2.5 0 0 0 0-5ZM4.5 6.5a3.5 3.5 0 1 1 7 0 3.5 3.5 0 0 1-7 0Z\" fill-rule=\"evenodd\"></path></svg><span>US</span></div></div></a></div></aside><hr class=\"divider_divider__I4MeB styles_cardDivider__2qERY divider_appearance-subtle__jkDoR\"/><section aria-disabled=\"false\" class=\"styles_reviewContentwrapper__W9Vqf\"><div class=\"styles_reviewHeader__xV2js\" data-service-review-rating=\"5\"><div class=\"star-rating_starRating__sdbkn star-rating_medium__Oj7C9\"><img alt=\"Rated 5 out of 5 stars\" src=\"https://cdn.trustpilot.net/brand-assets/4.1.0/stars/stars-5.svg\"/></div><div class=\"typography_body-m__k2UI7 typography_appearance-subtle__PYOVM styles_datesWrapper__2T9ri\"><time class=\"\" data-service-review-date-time-ago=\"true\" datetime=\"2025-02-18T00:09:36.000Z\">2 days ago</time></div><div class=\"styles_reviewLabels__a1QhX styles_reviewLabels____3__\"><div class=\"styles_reviewLabel__I43un\"><span><button class=\"styles_reviewLabelButton__Drv0Q\" data-review-label-tooltip-trigger=\"true\"><div class=\"typography_body-m__k2UI7 typography_appearance-subtle__PYOVM styles_detailsIcon__xmMRm\"><svg class=\"icon_icon__RdICC\" fill=\"currentColor\" height=\"14px\" viewbox=\"0 0 16 16\" width=\"14px\" xmlns=\"http://www.w3.org/2000/svg\"><path clip-rule=\"evenodd\" d=\"M8 16A8 8 0 1 0 8 0a8 8 0 0 0 0 16Zm-.888-4.44 5.603-5.87-.723-.69-4.897 5.13-2.388-2.388L4 8.449l3.112 3.112Z\" fill-rule=\"evenodd\"></path></svg><span>Verified</span></div></button></span></div></div></div><div aria-hidden=\"false\" class=\"styles_reviewContent__44s_M\" data-review-content=\"true\"><a class=\"link_internal__Eam_b typography_appearance-default__t8iAq typography_color-inherit__Qfq_w link_link__jBdLV link_notUnderlined__y4Qsc\" data-review-title-typography=\"true\" href=\"/reviews/67b3b3a03c5d466664705f07\" rel=\"nofollow\" target=\"_self\"><h2 class=\"typography_heading-s__RxVny typography_appearance-default__t8iAq\" data-service-review-title-typography=\"true\">Fortunately we didn’t have to use our…</h2></a><p class=\"typography_body-l__v5JLj typography_appearance-default__t8iAq typography_color-black__wpn7m\" data-service-review-text-typography=\"true\">Fortunately we didn’t have to use our travel insurance but it gave us peace of mind knowing that we were insured.</p><p class=\"typography_body-m__k2UI7 typography_appearance-default__t8iAq\" data-service-review-date-of-experience-typography=\"true\"><b class=\"typography_body-m__k2UI7 typography_appearance-default__t8iAq typography_weight-heavy__rS52U\" weight=\"heavy\">Date of experience<!-- -->:</b> <!-- -->November 25, 2024</p></div></section></div></article></div>"
            ]
          },
          "execution_count": 7,
          "metadata": {},
          "output_type": "execute_result"
        }
      ],
      "source": [
        "reviews_div[1]"
      ]
    },
    {
      "cell_type": "code",
      "execution_count": null,
      "metadata": {
        "id": "U19D8B60p1m9"
      },
      "outputs": [],
      "source": [
        "section = reviews_div[1].find('section', {'class': \"styles_reviewContentwrapper__W9Vqf\"})"
      ]
    },
    {
      "cell_type": "code",
      "execution_count": null,
      "metadata": {
        "colab": {
          "base_uri": "https://localhost:8080/"
        },
        "id": "9fVcDBKsnOuT",
        "outputId": "93e1ef96-eb2a-45fc-c7d3-422f2270991e"
      },
      "outputs": [
        {
          "data": {
            "text/plain": [
              "<section aria-disabled=\"false\" class=\"styles_reviewContentwrapper__W9Vqf\"><div class=\"styles_reviewHeader__xV2js\" data-service-review-rating=\"5\"><div class=\"star-rating_starRating__sdbkn star-rating_medium__Oj7C9\"><img alt=\"Rated 5 out of 5 stars\" src=\"https://cdn.trustpilot.net/brand-assets/4.1.0/stars/stars-5.svg\"/></div><div class=\"typography_body-m__k2UI7 typography_appearance-subtle__PYOVM styles_datesWrapper__2T9ri\"><time class=\"\" data-service-review-date-time-ago=\"true\" datetime=\"2025-02-18T00:09:36.000Z\">2 days ago</time></div><div class=\"styles_reviewLabels__a1QhX styles_reviewLabels____3__\"><div class=\"styles_reviewLabel__I43un\"><span><button class=\"styles_reviewLabelButton__Drv0Q\" data-review-label-tooltip-trigger=\"true\"><div class=\"typography_body-m__k2UI7 typography_appearance-subtle__PYOVM styles_detailsIcon__xmMRm\"><svg class=\"icon_icon__RdICC\" fill=\"currentColor\" height=\"14px\" viewbox=\"0 0 16 16\" width=\"14px\" xmlns=\"http://www.w3.org/2000/svg\"><path clip-rule=\"evenodd\" d=\"M8 16A8 8 0 1 0 8 0a8 8 0 0 0 0 16Zm-.888-4.44 5.603-5.87-.723-.69-4.897 5.13-2.388-2.388L4 8.449l3.112 3.112Z\" fill-rule=\"evenodd\"></path></svg><span>Verified</span></div></button></span></div></div></div><div aria-hidden=\"false\" class=\"styles_reviewContent__44s_M\" data-review-content=\"true\"><a class=\"link_internal__Eam_b typography_appearance-default__t8iAq typography_color-inherit__Qfq_w link_link__jBdLV link_notUnderlined__y4Qsc\" data-review-title-typography=\"true\" href=\"/reviews/67b3b3a03c5d466664705f07\" rel=\"nofollow\" target=\"_self\"><h2 class=\"typography_heading-s__RxVny typography_appearance-default__t8iAq\" data-service-review-title-typography=\"true\">Fortunately we didn’t have to use our…</h2></a><p class=\"typography_body-l__v5JLj typography_appearance-default__t8iAq typography_color-black__wpn7m\" data-service-review-text-typography=\"true\">Fortunately we didn’t have to use our travel insurance but it gave us peace of mind knowing that we were insured.</p><p class=\"typography_body-m__k2UI7 typography_appearance-default__t8iAq\" data-service-review-date-of-experience-typography=\"true\"><b class=\"typography_body-m__k2UI7 typography_appearance-default__t8iAq typography_weight-heavy__rS52U\" weight=\"heavy\">Date of experience<!-- -->:</b> <!-- -->November 25, 2024</p></div></section>"
            ]
          },
          "execution_count": 9,
          "metadata": {},
          "output_type": "execute_result"
        }
      ],
      "source": [
        "section"
      ]
    },
    {
      "cell_type": "markdown",
      "metadata": {
        "id": "FkV2_2WsvUCI"
      },
      "source": [
        "Rate"
      ]
    },
    {
      "cell_type": "code",
      "execution_count": null,
      "metadata": {
        "id": "3tsLeI4aqNiT"
      },
      "outputs": [],
      "source": [
        "rate = section.find('div', {'class': \"star-rating_starRating__sdbkn star-rating_medium__Oj7C9\"}).find('img').get('alt')"
      ]
    },
    {
      "cell_type": "code",
      "execution_count": null,
      "metadata": {
        "colab": {
          "base_uri": "https://localhost:8080/",
          "height": 35
        },
        "id": "QbfgsbVbt_57",
        "outputId": "d89c9855-958a-468d-c61b-230a87da3092"
      },
      "outputs": [
        {
          "data": {
            "application/vnd.google.colaboratory.intrinsic+json": {
              "type": "string"
            },
            "text/plain": [
              "'Rated 5 out of 5 stars'"
            ]
          },
          "execution_count": 11,
          "metadata": {},
          "output_type": "execute_result"
        }
      ],
      "source": [
        "rate"
      ]
    },
    {
      "cell_type": "code",
      "execution_count": null,
      "metadata": {
        "colab": {
          "base_uri": "https://localhost:8080/"
        },
        "id": "DrVzPEfJ_Imt",
        "outputId": "4b341ea7-e26b-49aa-ecca-bd3a59f755ac"
      },
      "outputs": [
        {
          "data": {
            "text/plain": [
              "str"
            ]
          },
          "execution_count": 12,
          "metadata": {},
          "output_type": "execute_result"
        }
      ],
      "source": [
        "type(rate)"
      ]
    },
    {
      "cell_type": "markdown",
      "metadata": {
        "id": "frCHUCPUvWRe"
      },
      "source": [
        "Review"
      ]
    },
    {
      "cell_type": "code",
      "execution_count": null,
      "metadata": {
        "id": "nQ8Xop8lvcTK"
      },
      "outputs": [],
      "source": [
        "review_div = section.find('div', {'class': \"styles_reviewContent__44s_M\"})"
      ]
    },
    {
      "cell_type": "code",
      "execution_count": null,
      "metadata": {
        "id": "EarUMHqnxkR6"
      },
      "outputs": [],
      "source": [
        "review_title_a = review_div.a"
      ]
    },
    {
      "cell_type": "code",
      "execution_count": null,
      "metadata": {
        "id": "YsxU8CnZ16_y"
      },
      "outputs": [],
      "source": [
        "review_title = review_title_a.h2.get_text()"
      ]
    },
    {
      "cell_type": "code",
      "execution_count": null,
      "metadata": {
        "colab": {
          "base_uri": "https://localhost:8080/",
          "height": 35
        },
        "id": "NfQ7nFVZzzyb",
        "outputId": "cd0715ef-f5d9-4c2e-ef95-4998d2755291"
      },
      "outputs": [
        {
          "data": {
            "application/vnd.google.colaboratory.intrinsic+json": {
              "type": "string"
            },
            "text/plain": [
              "'Fortunately we didn’t have to use our…'"
            ]
          },
          "execution_count": 16,
          "metadata": {},
          "output_type": "execute_result"
        }
      ],
      "source": [
        "review_title"
      ]
    },
    {
      "cell_type": "code",
      "execution_count": null,
      "metadata": {
        "colab": {
          "base_uri": "https://localhost:8080/"
        },
        "id": "q6J_IFOZ543Z",
        "outputId": "673ae4e1-8d2d-4722-b012-a241c6c7c4f7"
      },
      "outputs": [
        {
          "data": {
            "text/plain": [
              "str"
            ]
          },
          "execution_count": 17,
          "metadata": {},
          "output_type": "execute_result"
        }
      ],
      "source": [
        "type(review_title)"
      ]
    },
    {
      "cell_type": "code",
      "execution_count": null,
      "metadata": {
        "id": "7TSW8Gi4y6kv"
      },
      "outputs": [],
      "source": [
        "review_content_p = review_title_a.next_sibling"
      ]
    },
    {
      "cell_type": "code",
      "execution_count": null,
      "metadata": {
        "id": "KUg106UQ2EzN"
      },
      "outputs": [],
      "source": [
        "review_content = review_content_p.get_text()"
      ]
    },
    {
      "cell_type": "code",
      "execution_count": null,
      "metadata": {
        "colab": {
          "base_uri": "https://localhost:8080/"
        },
        "id": "2gBMGaCX1pzU",
        "outputId": "eb2d786c-4612-4508-8305-b96456dc1b10"
      },
      "outputs": [
        {
          "name": "stdout",
          "output_type": "stream",
          "text": [
            "Fortunately we didn’t have to use our travel insurance but it gave us peace of mind knowing that we were insured.\n"
          ]
        }
      ],
      "source": [
        "print(review_content)"
      ]
    },
    {
      "cell_type": "code",
      "execution_count": null,
      "metadata": {
        "id": "EwWnYjHrzAaB"
      },
      "outputs": [],
      "source": [
        "review_date = review_content_p.next_sibling.get_text()"
      ]
    },
    {
      "cell_type": "code",
      "execution_count": null,
      "metadata": {
        "colab": {
          "base_uri": "https://localhost:8080/"
        },
        "id": "LLoH9lpA5lbu",
        "outputId": "5f799878-01aa-4b1d-ab52-db86bc50670e"
      },
      "outputs": [
        {
          "name": "stdout",
          "output_type": "stream",
          "text": [
            "Date of experience: November 25, 2024\n"
          ]
        }
      ],
      "source": [
        "print(review_date)"
      ]
    },
    {
      "cell_type": "markdown",
      "metadata": {
        "id": "cp_10vay6e8a"
      },
      "source": [
        "### Ingestion"
      ]
    },
    {
      "cell_type": "markdown",
      "metadata": {
        "id": "OWtIpXCPLJfx"
      },
      "source": [
        "Il faut noter que c'est les avis les plus concrets fournis par le site qu'on a scrapé"
      ]
    },
    {
      "cell_type": "code",
      "execution_count": null,
      "metadata": {
        "id": "-wRg0u_SGmyi"
      },
      "outputs": [],
      "source": [
        "base_url = \"https://www.trustpilot.com/review/www.travelinsured.com?page=\"\n",
        "max_page = 46"
      ]
    },
    {
      "cell_type": "code",
      "execution_count": null,
      "metadata": {
        "id": "31jRPrTs-9Hw"
      },
      "outputs": [],
      "source": [
        "def get_rate(rate_text: str) -> int:\n",
        "  match rate_text:\n",
        "    case \"Rated 0 out of 5 stars\":\n",
        "      return 0\n",
        "    case \"Rated 1 out of 5 stars\":\n",
        "      return 1\n",
        "    case \"Rated 2 out of 5 stars\":\n",
        "      return 2\n",
        "    case \"Rated 3 out of 5 stars\":\n",
        "      return 3\n",
        "    case \"Rated 4 out of 5 stars\":\n",
        "      return 4\n",
        "    case \"Rated 5 out of 5 stars\":\n",
        "      return 5\n",
        "    case _:\n",
        "      return None"
      ]
    },
    {
      "cell_type": "code",
      "execution_count": null,
      "metadata": {
        "id": "uIMJcGQW8wTV"
      },
      "outputs": [],
      "source": [
        "TII_reviews_df = pd.DataFrame(columns=[\"rate\", \"title\", \"content\", \"review_date\"])"
      ]
    },
    {
      "cell_type": "code",
      "execution_count": null,
      "metadata": {
        "id": "c-9e8G8o5pv8"
      },
      "outputs": [],
      "source": [
        "# Gestion de la pagination\n",
        "for page in range(max_page):\n",
        "    url = f\"{base_url}{page}\"\n",
        "    response = requests.get(url)\n",
        "    soup = BeautifulSoup(response.text, \"html.parser\")\n",
        "    reviews_div = soup.find_all('div', {'class': \"styles_cardWrapper__w4HBQ styles_show__Zsi_m styles_reviewCard__vOUqi\"})\n",
        "\n",
        "    for r_div in reviews_div:\n",
        "      section = r_div.find('section', {'class': \"styles_reviewContentwrapper__W9Vqf\"})\n",
        "      rate = get_rate(section.find('div', {'class': \"star-rating_starRating__sdbkn star-rating_medium__Oj7C9\"}).find('img').get('alt'))\n",
        "      # Review div\n",
        "      review_div = section.find('div', {'class': \"styles_reviewContent__44s_M\"})\n",
        "      # Title\n",
        "      review_title_a = review_div.a\n",
        "      review_title = review_title_a.h2.get_text() if review_title_a and review_title_a.h2 else None\n",
        "      # Content\n",
        "      review_content_p = review_div.find('p', {'class': \"typography_body-l__v5JLj typography_appearance-default__t8iAq typography_color-black__wpn7m\"})\n",
        "      review_content = review_content_p.get_text() if review_content_p else None\n",
        "      # Date\n",
        "      review_date_p = review_div.find('p', {'class': \"typography_body-m__k2UI7 typography_appearance-default__t8iAq\"})\n",
        "      review_date = review_date_p.get_text().split(\":\")[-1].strip() if review_date_p else None\n",
        "\n",
        "      TII_reviews_df = pd.concat([TII_reviews_df, pd.DataFrame({\"rate\": [rate], \"title\": [review_title], \"content\": [review_content], \"review_date\": [review_date]})], ignore_index=True)\n"
      ]
    },
    {
      "cell_type": "code",
      "execution_count": null,
      "metadata": {
        "colab": {
          "base_uri": "https://localhost:8080/",
          "height": 293
        },
        "id": "XsUXpy_2CLEM",
        "outputId": "3b8a5d91-be01-4622-dae4-4fd943b62c04"
      },
      "outputs": [
        {
          "data": {
            "application/vnd.google.colaboratory.intrinsic+json": {
              "summary": "{\n  \"name\": \"TII_reviews_df\",\n  \"rows\": 900,\n  \"fields\": [\n    {\n      \"column\": \"rate\",\n      \"properties\": {\n        \"dtype\": \"date\",\n        \"min\": 1,\n        \"max\": 5,\n        \"num_unique_values\": 5,\n        \"samples\": [\n          4,\n          3,\n          1\n        ],\n        \"semantic_type\": \"\",\n        \"description\": \"\"\n      }\n    },\n    {\n      \"column\": \"title\",\n      \"properties\": {\n        \"dtype\": \"string\",\n        \"num_unique_values\": 878,\n        \"samples\": [\n          \"Awesome!!\",\n          \"Cruise Iceland, Greenland & Norway \",\n          \"We were so thankful that our trip went\\u2026\"\n        ],\n        \"semantic_type\": \"\",\n        \"description\": \"\"\n      }\n    },\n    {\n      \"column\": \"content\",\n      \"properties\": {\n        \"dtype\": \"string\",\n        \"num_unique_values\": 839,\n        \"samples\": [\n          \"How can. you rate insurance good unless you need to use it and then see if it performs EXCELLENT! Thank God we did not need to use it so my response is just more than good.  It was expensive but again, if we needed to use it, the response would be different.\",\n          \"The process to obtain the required coverage was seamless.\",\n          \"Although I never had to use the insurance I've had neighbors that did, and from what they have told me, I feel safe and secure with the insurance company..\"\n        ],\n        \"semantic_type\": \"\",\n        \"description\": \"\"\n      }\n    },\n    {\n      \"column\": \"review_date\",\n      \"properties\": {\n        \"dtype\": \"object\",\n        \"num_unique_values\": 383,\n        \"samples\": [\n          \"December 29, 2023\",\n          \"April 04, 2024\",\n          \"January 27, 2024\"\n        ],\n        \"semantic_type\": \"\",\n        \"description\": \"\"\n      }\n    }\n  ]\n}",
              "type": "dataframe",
              "variable_name": "TII_reviews_df"
            },
            "text/html": [
              "\n",
              "  <div id=\"df-327a8834-6745-49bf-8866-a4597812c2aa\" class=\"colab-df-container\">\n",
              "    <div>\n",
              "<style scoped>\n",
              "    .dataframe tbody tr th:only-of-type {\n",
              "        vertical-align: middle;\n",
              "    }\n",
              "\n",
              "    .dataframe tbody tr th {\n",
              "        vertical-align: top;\n",
              "    }\n",
              "\n",
              "    .dataframe thead th {\n",
              "        text-align: right;\n",
              "    }\n",
              "</style>\n",
              "<table border=\"1\" class=\"dataframe\">\n",
              "  <thead>\n",
              "    <tr style=\"text-align: right;\">\n",
              "      <th></th>\n",
              "      <th>rate</th>\n",
              "      <th>title</th>\n",
              "      <th>content</th>\n",
              "      <th>review_date</th>\n",
              "    </tr>\n",
              "  </thead>\n",
              "  <tbody>\n",
              "    <tr>\n",
              "      <th>0</th>\n",
              "      <td>5</td>\n",
              "      <td>Better Than Thought</td>\n",
              "      <td>We purchased a travel plan from Travel Insured...</td>\n",
              "      <td>February 14, 2025</td>\n",
              "    </tr>\n",
              "    <tr>\n",
              "      <th>1</th>\n",
              "      <td>5</td>\n",
              "      <td>Fortunately we didn’t have to use our…</td>\n",
              "      <td>Fortunately we didn’t have to use our travel i...</td>\n",
              "      <td>November 25, 2024</td>\n",
              "    </tr>\n",
              "    <tr>\n",
              "      <th>2</th>\n",
              "      <td>5</td>\n",
              "      <td>Insurance was easy to purchase</td>\n",
              "      <td>Insurance was easy to purchase online &amp; gave m...</td>\n",
              "      <td>November 01, 2024</td>\n",
              "    </tr>\n",
              "    <tr>\n",
              "      <th>3</th>\n",
              "      <td>5</td>\n",
              "      <td>Peace of mind</td>\n",
              "      <td>Isabel took care of our travel insurance needs...</td>\n",
              "      <td>January 18, 2025</td>\n",
              "    </tr>\n",
              "    <tr>\n",
              "      <th>4</th>\n",
              "      <td>5</td>\n",
              "      <td>ABC ruise coverage</td>\n",
              "      <td>Policy issued same day with good coverage expl...</td>\n",
              "      <td>January 28, 2025</td>\n",
              "    </tr>\n",
              "  </tbody>\n",
              "</table>\n",
              "</div>\n",
              "    <div class=\"colab-df-buttons\">\n",
              "\n",
              "  <div class=\"colab-df-container\">\n",
              "    <button class=\"colab-df-convert\" onclick=\"convertToInteractive('df-327a8834-6745-49bf-8866-a4597812c2aa')\"\n",
              "            title=\"Convert this dataframe to an interactive table.\"\n",
              "            style=\"display:none;\">\n",
              "\n",
              "  <svg xmlns=\"http://www.w3.org/2000/svg\" height=\"24px\" viewBox=\"0 -960 960 960\">\n",
              "    <path d=\"M120-120v-720h720v720H120Zm60-500h600v-160H180v160Zm220 220h160v-160H400v160Zm0 220h160v-160H400v160ZM180-400h160v-160H180v160Zm440 0h160v-160H620v160ZM180-180h160v-160H180v160Zm440 0h160v-160H620v160Z\"/>\n",
              "  </svg>\n",
              "    </button>\n",
              "\n",
              "  <style>\n",
              "    .colab-df-container {\n",
              "      display:flex;\n",
              "      gap: 12px;\n",
              "    }\n",
              "\n",
              "    .colab-df-convert {\n",
              "      background-color: #E8F0FE;\n",
              "      border: none;\n",
              "      border-radius: 50%;\n",
              "      cursor: pointer;\n",
              "      display: none;\n",
              "      fill: #1967D2;\n",
              "      height: 32px;\n",
              "      padding: 0 0 0 0;\n",
              "      width: 32px;\n",
              "    }\n",
              "\n",
              "    .colab-df-convert:hover {\n",
              "      background-color: #E2EBFA;\n",
              "      box-shadow: 0px 1px 2px rgba(60, 64, 67, 0.3), 0px 1px 3px 1px rgba(60, 64, 67, 0.15);\n",
              "      fill: #174EA6;\n",
              "    }\n",
              "\n",
              "    .colab-df-buttons div {\n",
              "      margin-bottom: 4px;\n",
              "    }\n",
              "\n",
              "    [theme=dark] .colab-df-convert {\n",
              "      background-color: #3B4455;\n",
              "      fill: #D2E3FC;\n",
              "    }\n",
              "\n",
              "    [theme=dark] .colab-df-convert:hover {\n",
              "      background-color: #434B5C;\n",
              "      box-shadow: 0px 1px 3px 1px rgba(0, 0, 0, 0.15);\n",
              "      filter: drop-shadow(0px 1px 2px rgba(0, 0, 0, 0.3));\n",
              "      fill: #FFFFFF;\n",
              "    }\n",
              "  </style>\n",
              "\n",
              "    <script>\n",
              "      const buttonEl =\n",
              "        document.querySelector('#df-327a8834-6745-49bf-8866-a4597812c2aa button.colab-df-convert');\n",
              "      buttonEl.style.display =\n",
              "        google.colab.kernel.accessAllowed ? 'block' : 'none';\n",
              "\n",
              "      async function convertToInteractive(key) {\n",
              "        const element = document.querySelector('#df-327a8834-6745-49bf-8866-a4597812c2aa');\n",
              "        const dataTable =\n",
              "          await google.colab.kernel.invokeFunction('convertToInteractive',\n",
              "                                                    [key], {});\n",
              "        if (!dataTable) return;\n",
              "\n",
              "        const docLinkHtml = 'Like what you see? Visit the ' +\n",
              "          '<a target=\"_blank\" href=https://colab.research.google.com/notebooks/data_table.ipynb>data table notebook</a>'\n",
              "          + ' to learn more about interactive tables.';\n",
              "        element.innerHTML = '';\n",
              "        dataTable['output_type'] = 'display_data';\n",
              "        await google.colab.output.renderOutput(dataTable, element);\n",
              "        const docLink = document.createElement('div');\n",
              "        docLink.innerHTML = docLinkHtml;\n",
              "        element.appendChild(docLink);\n",
              "      }\n",
              "    </script>\n",
              "  </div>\n",
              "\n",
              "\n",
              "<div id=\"df-e86d077d-6841-4a73-9dea-dc38cf8129af\">\n",
              "  <button class=\"colab-df-quickchart\" onclick=\"quickchart('df-e86d077d-6841-4a73-9dea-dc38cf8129af')\"\n",
              "            title=\"Suggest charts\"\n",
              "            style=\"display:none;\">\n",
              "\n",
              "<svg xmlns=\"http://www.w3.org/2000/svg\" height=\"24px\"viewBox=\"0 0 24 24\"\n",
              "     width=\"24px\">\n",
              "    <g>\n",
              "        <path d=\"M19 3H5c-1.1 0-2 .9-2 2v14c0 1.1.9 2 2 2h14c1.1 0 2-.9 2-2V5c0-1.1-.9-2-2-2zM9 17H7v-7h2v7zm4 0h-2V7h2v10zm4 0h-2v-4h2v4z\"/>\n",
              "    </g>\n",
              "</svg>\n",
              "  </button>\n",
              "\n",
              "<style>\n",
              "  .colab-df-quickchart {\n",
              "      --bg-color: #E8F0FE;\n",
              "      --fill-color: #1967D2;\n",
              "      --hover-bg-color: #E2EBFA;\n",
              "      --hover-fill-color: #174EA6;\n",
              "      --disabled-fill-color: #AAA;\n",
              "      --disabled-bg-color: #DDD;\n",
              "  }\n",
              "\n",
              "  [theme=dark] .colab-df-quickchart {\n",
              "      --bg-color: #3B4455;\n",
              "      --fill-color: #D2E3FC;\n",
              "      --hover-bg-color: #434B5C;\n",
              "      --hover-fill-color: #FFFFFF;\n",
              "      --disabled-bg-color: #3B4455;\n",
              "      --disabled-fill-color: #666;\n",
              "  }\n",
              "\n",
              "  .colab-df-quickchart {\n",
              "    background-color: var(--bg-color);\n",
              "    border: none;\n",
              "    border-radius: 50%;\n",
              "    cursor: pointer;\n",
              "    display: none;\n",
              "    fill: var(--fill-color);\n",
              "    height: 32px;\n",
              "    padding: 0;\n",
              "    width: 32px;\n",
              "  }\n",
              "\n",
              "  .colab-df-quickchart:hover {\n",
              "    background-color: var(--hover-bg-color);\n",
              "    box-shadow: 0 1px 2px rgba(60, 64, 67, 0.3), 0 1px 3px 1px rgba(60, 64, 67, 0.15);\n",
              "    fill: var(--button-hover-fill-color);\n",
              "  }\n",
              "\n",
              "  .colab-df-quickchart-complete:disabled,\n",
              "  .colab-df-quickchart-complete:disabled:hover {\n",
              "    background-color: var(--disabled-bg-color);\n",
              "    fill: var(--disabled-fill-color);\n",
              "    box-shadow: none;\n",
              "  }\n",
              "\n",
              "  .colab-df-spinner {\n",
              "    border: 2px solid var(--fill-color);\n",
              "    border-color: transparent;\n",
              "    border-bottom-color: var(--fill-color);\n",
              "    animation:\n",
              "      spin 1s steps(1) infinite;\n",
              "  }\n",
              "\n",
              "  @keyframes spin {\n",
              "    0% {\n",
              "      border-color: transparent;\n",
              "      border-bottom-color: var(--fill-color);\n",
              "      border-left-color: var(--fill-color);\n",
              "    }\n",
              "    20% {\n",
              "      border-color: transparent;\n",
              "      border-left-color: var(--fill-color);\n",
              "      border-top-color: var(--fill-color);\n",
              "    }\n",
              "    30% {\n",
              "      border-color: transparent;\n",
              "      border-left-color: var(--fill-color);\n",
              "      border-top-color: var(--fill-color);\n",
              "      border-right-color: var(--fill-color);\n",
              "    }\n",
              "    40% {\n",
              "      border-color: transparent;\n",
              "      border-right-color: var(--fill-color);\n",
              "      border-top-color: var(--fill-color);\n",
              "    }\n",
              "    60% {\n",
              "      border-color: transparent;\n",
              "      border-right-color: var(--fill-color);\n",
              "    }\n",
              "    80% {\n",
              "      border-color: transparent;\n",
              "      border-right-color: var(--fill-color);\n",
              "      border-bottom-color: var(--fill-color);\n",
              "    }\n",
              "    90% {\n",
              "      border-color: transparent;\n",
              "      border-bottom-color: var(--fill-color);\n",
              "    }\n",
              "  }\n",
              "</style>\n",
              "\n",
              "  <script>\n",
              "    async function quickchart(key) {\n",
              "      const quickchartButtonEl =\n",
              "        document.querySelector('#' + key + ' button');\n",
              "      quickchartButtonEl.disabled = true;  // To prevent multiple clicks.\n",
              "      quickchartButtonEl.classList.add('colab-df-spinner');\n",
              "      try {\n",
              "        const charts = await google.colab.kernel.invokeFunction(\n",
              "            'suggestCharts', [key], {});\n",
              "      } catch (error) {\n",
              "        console.error('Error during call to suggestCharts:', error);\n",
              "      }\n",
              "      quickchartButtonEl.classList.remove('colab-df-spinner');\n",
              "      quickchartButtonEl.classList.add('colab-df-quickchart-complete');\n",
              "    }\n",
              "    (() => {\n",
              "      let quickchartButtonEl =\n",
              "        document.querySelector('#df-e86d077d-6841-4a73-9dea-dc38cf8129af button');\n",
              "      quickchartButtonEl.style.display =\n",
              "        google.colab.kernel.accessAllowed ? 'block' : 'none';\n",
              "    })();\n",
              "  </script>\n",
              "</div>\n",
              "\n",
              "    </div>\n",
              "  </div>\n"
            ],
            "text/plain": [
              "  rate                                   title  \\\n",
              "0    5                     Better Than Thought   \n",
              "1    5  Fortunately we didn’t have to use our…   \n",
              "2    5          Insurance was easy to purchase   \n",
              "3    5                           Peace of mind   \n",
              "4    5                      ABC ruise coverage   \n",
              "\n",
              "                                             content        review_date  \n",
              "0  We purchased a travel plan from Travel Insured...  February 14, 2025  \n",
              "1  Fortunately we didn’t have to use our travel i...  November 25, 2024  \n",
              "2  Insurance was easy to purchase online & gave m...  November 01, 2024  \n",
              "3  Isabel took care of our travel insurance needs...   January 18, 2025  \n",
              "4  Policy issued same day with good coverage expl...   January 28, 2025  "
            ]
          },
          "execution_count": 63,
          "metadata": {},
          "output_type": "execute_result"
        }
      ],
      "source": [
        "TII_reviews_df.head()"
      ]
    },
    {
      "cell_type": "code",
      "execution_count": null,
      "metadata": {
        "colab": {
          "base_uri": "https://localhost:8080/"
        },
        "id": "vPtOdD7_CX0Y",
        "outputId": "f469f477-ee30-4638-e7fa-c8bc04265f16"
      },
      "outputs": [
        {
          "data": {
            "text/plain": [
              "(900, 4)"
            ]
          },
          "execution_count": 64,
          "metadata": {},
          "output_type": "execute_result"
        }
      ],
      "source": [
        "TII_reviews_df.shape"
      ]
    },
    {
      "cell_type": "code",
      "execution_count": null,
      "metadata": {
        "colab": {
          "base_uri": "https://localhost:8080/"
        },
        "id": "q9C9n2vCGd5V",
        "outputId": "1b12959e-2933-4ae5-e93f-2353bdca1092"
      },
      "outputs": [
        {
          "name": "stdout",
          "output_type": "stream",
          "text": [
            "  rate                                   title  \\\n",
            "0    5                     Better Than Thought   \n",
            "1    5  Fortunately we didn’t have to use our…   \n",
            "2    5          Insurance was easy to purchase   \n",
            "3    5                           Peace of mind   \n",
            "4    5                      ABC ruise coverage   \n",
            "\n",
            "                                             content review_date  \n",
            "0  We purchased a travel plan from Travel Insured...  2025-02-14  \n",
            "1  Fortunately we didn’t have to use our travel i...  2024-11-25  \n",
            "2  Insurance was easy to purchase online & gave m...  2024-11-01  \n",
            "3  Isabel took care of our travel insurance needs...  2025-01-18  \n",
            "4  Policy issued same day with good coverage expl...  2025-01-28  \n"
          ]
        }
      ],
      "source": [
        "# Convert 'review_date' column to datetime objects\n",
        "TII_reviews_df['review_date'] = pd.to_datetime(TII_reviews_df['review_date'], errors='coerce')\n",
        "\n",
        "print(TII_reviews_df.head())\n",
        "#TII_reviews_df.dtypes"
      ]
    },
    {
      "cell_type": "code",
      "execution_count": null,
      "metadata": {
        "colab": {
          "base_uri": "https://localhost:8080/",
          "height": 878
        },
        "id": "ysnnjQ5UIQr6",
        "outputId": "5d90c1bc-53f6-41b4-d5e1-66158c7ae440"
      },
      "outputs": [
        {
          "data": {
            "application/vnd.google.colaboratory.intrinsic+json": {
              "repr_error": "0",
              "type": "dataframe",
              "variable_name": "december_2024_complaints"
            },
            "text/html": [
              "\n",
              "  <div id=\"df-5a2f2231-513f-423a-adc4-6b8ed5a6134f\" class=\"colab-df-container\">\n",
              "    <div>\n",
              "<style scoped>\n",
              "    .dataframe tbody tr th:only-of-type {\n",
              "        vertical-align: middle;\n",
              "    }\n",
              "\n",
              "    .dataframe tbody tr th {\n",
              "        vertical-align: top;\n",
              "    }\n",
              "\n",
              "    .dataframe thead th {\n",
              "        text-align: right;\n",
              "    }\n",
              "</style>\n",
              "<table border=\"1\" class=\"dataframe\">\n",
              "  <thead>\n",
              "    <tr style=\"text-align: right;\">\n",
              "      <th></th>\n",
              "      <th>rate</th>\n",
              "      <th>title</th>\n",
              "      <th>content</th>\n",
              "      <th>review_date</th>\n",
              "    </tr>\n",
              "  </thead>\n",
              "  <tbody>\n",
              "    <tr>\n",
              "      <th>15</th>\n",
              "      <td>5</td>\n",
              "      <td>I have used this company before on…</td>\n",
              "      <td>I have used this company before on previous tr...</td>\n",
              "      <td>2024-12-21</td>\n",
              "    </tr>\n",
              "    <tr>\n",
              "      <th>18</th>\n",
              "      <td>4</td>\n",
              "      <td>Travel insurance for Vietnam tour</td>\n",
              "      <td>I had to buy travel insurance to go on a NatGe...</td>\n",
              "      <td>2024-12-19</td>\n",
              "    </tr>\n",
              "    <tr>\n",
              "      <th>24</th>\n",
              "      <td>4</td>\n",
              "      <td>I’ve used this insurance for quite a…</td>\n",
              "      <td>I’ve used this insurance for quite a few trips...</td>\n",
              "      <td>2024-12-25</td>\n",
              "    </tr>\n",
              "    <tr>\n",
              "      <th>25</th>\n",
              "      <td>5</td>\n",
              "      <td>It was an insurance product and the 2nd…</td>\n",
              "      <td>It was an insurance product and the 2nd time I...</td>\n",
              "      <td>2024-12-05</td>\n",
              "    </tr>\n",
              "    <tr>\n",
              "      <th>35</th>\n",
              "      <td>5</td>\n",
              "      <td>The process was smooth</td>\n",
              "      <td>The process was smooth. I called answered a fe...</td>\n",
              "      <td>2024-12-13</td>\n",
              "    </tr>\n",
              "    <tr>\n",
              "      <th>45</th>\n",
              "      <td>5</td>\n",
              "      <td>Simple and Easy</td>\n",
              "      <td>Simple and easy to apply for and purchase.Just...</td>\n",
              "      <td>2024-12-04</td>\n",
              "    </tr>\n",
              "    <tr>\n",
              "      <th>48</th>\n",
              "      <td>5</td>\n",
              "      <td>My flight was delayed for a day due to…</td>\n",
              "      <td>My flight was delayed for a day due to fog at ...</td>\n",
              "      <td>2024-12-16</td>\n",
              "    </tr>\n",
              "    <tr>\n",
              "      <th>49</th>\n",
              "      <td>5</td>\n",
              "      <td>Wonderful options and great customer service!</td>\n",
              "      <td>As a travel advisor I really appreciate that m...</td>\n",
              "      <td>2024-12-15</td>\n",
              "    </tr>\n",
              "    <tr>\n",
              "      <th>56</th>\n",
              "      <td>5</td>\n",
              "      <td>To the rescue once again.</td>\n",
              "      <td>I had an injury on our cruise that involved a ...</td>\n",
              "      <td>2024-12-26</td>\n",
              "    </tr>\n",
              "    <tr>\n",
              "      <th>69</th>\n",
              "      <td>1</td>\n",
              "      <td>Virtually impossible to file a claim</td>\n",
              "      <td>Virtually impossible to file a claim, everythi...</td>\n",
              "      <td>2024-12-01</td>\n",
              "    </tr>\n",
              "    <tr>\n",
              "      <th>73</th>\n",
              "      <td>3</td>\n",
              "      <td>Very unclear phrasing that hides their intent.</td>\n",
              "      <td>I was disappointed to find that my purchased p...</td>\n",
              "      <td>2024-12-10</td>\n",
              "    </tr>\n",
              "    <tr>\n",
              "      <th>75</th>\n",
              "      <td>1</td>\n",
              "      <td>Terrible Process</td>\n",
              "      <td>When I finally was notified the claim was appr...</td>\n",
              "      <td>2024-12-12</td>\n",
              "    </tr>\n",
              "    <tr>\n",
              "      <th>106</th>\n",
              "      <td>5</td>\n",
              "      <td>We had no cause to use the Travel…</td>\n",
              "      <td>We had no cause to use the Travel Protection P...</td>\n",
              "      <td>2024-12-05</td>\n",
              "    </tr>\n",
              "    <tr>\n",
              "      <th>113</th>\n",
              "      <td>3</td>\n",
              "      <td>New Years Insurance Coverage</td>\n",
              "      <td>The insurance provided a level of security tha...</td>\n",
              "      <td>2024-12-29</td>\n",
              "    </tr>\n",
              "    <tr>\n",
              "      <th>117</th>\n",
              "      <td>3</td>\n",
              "      <td>Because using the wrong name to do this…</td>\n",
              "      <td>Because using the wrong name to do this survey</td>\n",
              "      <td>2024-12-26</td>\n",
              "    </tr>\n",
              "    <tr>\n",
              "      <th>139</th>\n",
              "      <td>1</td>\n",
              "      <td>Buyer Beware - Travel Insured Intl'</td>\n",
              "      <td>Travel Insured International is a great compan...</td>\n",
              "      <td>2024-12-07</td>\n",
              "    </tr>\n",
              "    <tr>\n",
              "      <th>149</th>\n",
              "      <td>5</td>\n",
              "      <td>The process was easy and the…</td>\n",
              "      <td>The process was easy and the representative wa...</td>\n",
              "      <td>2024-12-16</td>\n",
              "    </tr>\n",
              "  </tbody>\n",
              "</table>\n",
              "</div>\n",
              "    <div class=\"colab-df-buttons\">\n",
              "\n",
              "  <div class=\"colab-df-container\">\n",
              "    <button class=\"colab-df-convert\" onclick=\"convertToInteractive('df-5a2f2231-513f-423a-adc4-6b8ed5a6134f')\"\n",
              "            title=\"Convert this dataframe to an interactive table.\"\n",
              "            style=\"display:none;\">\n",
              "\n",
              "  <svg xmlns=\"http://www.w3.org/2000/svg\" height=\"24px\" viewBox=\"0 -960 960 960\">\n",
              "    <path d=\"M120-120v-720h720v720H120Zm60-500h600v-160H180v160Zm220 220h160v-160H400v160Zm0 220h160v-160H400v160ZM180-400h160v-160H180v160Zm440 0h160v-160H620v160ZM180-180h160v-160H180v160Zm440 0h160v-160H620v160Z\"/>\n",
              "  </svg>\n",
              "    </button>\n",
              "\n",
              "  <style>\n",
              "    .colab-df-container {\n",
              "      display:flex;\n",
              "      gap: 12px;\n",
              "    }\n",
              "\n",
              "    .colab-df-convert {\n",
              "      background-color: #E8F0FE;\n",
              "      border: none;\n",
              "      border-radius: 50%;\n",
              "      cursor: pointer;\n",
              "      display: none;\n",
              "      fill: #1967D2;\n",
              "      height: 32px;\n",
              "      padding: 0 0 0 0;\n",
              "      width: 32px;\n",
              "    }\n",
              "\n",
              "    .colab-df-convert:hover {\n",
              "      background-color: #E2EBFA;\n",
              "      box-shadow: 0px 1px 2px rgba(60, 64, 67, 0.3), 0px 1px 3px 1px rgba(60, 64, 67, 0.15);\n",
              "      fill: #174EA6;\n",
              "    }\n",
              "\n",
              "    .colab-df-buttons div {\n",
              "      margin-bottom: 4px;\n",
              "    }\n",
              "\n",
              "    [theme=dark] .colab-df-convert {\n",
              "      background-color: #3B4455;\n",
              "      fill: #D2E3FC;\n",
              "    }\n",
              "\n",
              "    [theme=dark] .colab-df-convert:hover {\n",
              "      background-color: #434B5C;\n",
              "      box-shadow: 0px 1px 3px 1px rgba(0, 0, 0, 0.15);\n",
              "      filter: drop-shadow(0px 1px 2px rgba(0, 0, 0, 0.3));\n",
              "      fill: #FFFFFF;\n",
              "    }\n",
              "  </style>\n",
              "\n",
              "    <script>\n",
              "      const buttonEl =\n",
              "        document.querySelector('#df-5a2f2231-513f-423a-adc4-6b8ed5a6134f button.colab-df-convert');\n",
              "      buttonEl.style.display =\n",
              "        google.colab.kernel.accessAllowed ? 'block' : 'none';\n",
              "\n",
              "      async function convertToInteractive(key) {\n",
              "        const element = document.querySelector('#df-5a2f2231-513f-423a-adc4-6b8ed5a6134f');\n",
              "        const dataTable =\n",
              "          await google.colab.kernel.invokeFunction('convertToInteractive',\n",
              "                                                    [key], {});\n",
              "        if (!dataTable) return;\n",
              "\n",
              "        const docLinkHtml = 'Like what you see? Visit the ' +\n",
              "          '<a target=\"_blank\" href=https://colab.research.google.com/notebooks/data_table.ipynb>data table notebook</a>'\n",
              "          + ' to learn more about interactive tables.';\n",
              "        element.innerHTML = '';\n",
              "        dataTable['output_type'] = 'display_data';\n",
              "        await google.colab.output.renderOutput(dataTable, element);\n",
              "        const docLink = document.createElement('div');\n",
              "        docLink.innerHTML = docLinkHtml;\n",
              "        element.appendChild(docLink);\n",
              "      }\n",
              "    </script>\n",
              "  </div>\n",
              "\n",
              "\n",
              "<div id=\"df-8c609b43-2834-466f-88f5-f4ae60c961e2\">\n",
              "  <button class=\"colab-df-quickchart\" onclick=\"quickchart('df-8c609b43-2834-466f-88f5-f4ae60c961e2')\"\n",
              "            title=\"Suggest charts\"\n",
              "            style=\"display:none;\">\n",
              "\n",
              "<svg xmlns=\"http://www.w3.org/2000/svg\" height=\"24px\"viewBox=\"0 0 24 24\"\n",
              "     width=\"24px\">\n",
              "    <g>\n",
              "        <path d=\"M19 3H5c-1.1 0-2 .9-2 2v14c0 1.1.9 2 2 2h14c1.1 0 2-.9 2-2V5c0-1.1-.9-2-2-2zM9 17H7v-7h2v7zm4 0h-2V7h2v10zm4 0h-2v-4h2v4z\"/>\n",
              "    </g>\n",
              "</svg>\n",
              "  </button>\n",
              "\n",
              "<style>\n",
              "  .colab-df-quickchart {\n",
              "      --bg-color: #E8F0FE;\n",
              "      --fill-color: #1967D2;\n",
              "      --hover-bg-color: #E2EBFA;\n",
              "      --hover-fill-color: #174EA6;\n",
              "      --disabled-fill-color: #AAA;\n",
              "      --disabled-bg-color: #DDD;\n",
              "  }\n",
              "\n",
              "  [theme=dark] .colab-df-quickchart {\n",
              "      --bg-color: #3B4455;\n",
              "      --fill-color: #D2E3FC;\n",
              "      --hover-bg-color: #434B5C;\n",
              "      --hover-fill-color: #FFFFFF;\n",
              "      --disabled-bg-color: #3B4455;\n",
              "      --disabled-fill-color: #666;\n",
              "  }\n",
              "\n",
              "  .colab-df-quickchart {\n",
              "    background-color: var(--bg-color);\n",
              "    border: none;\n",
              "    border-radius: 50%;\n",
              "    cursor: pointer;\n",
              "    display: none;\n",
              "    fill: var(--fill-color);\n",
              "    height: 32px;\n",
              "    padding: 0;\n",
              "    width: 32px;\n",
              "  }\n",
              "\n",
              "  .colab-df-quickchart:hover {\n",
              "    background-color: var(--hover-bg-color);\n",
              "    box-shadow: 0 1px 2px rgba(60, 64, 67, 0.3), 0 1px 3px 1px rgba(60, 64, 67, 0.15);\n",
              "    fill: var(--button-hover-fill-color);\n",
              "  }\n",
              "\n",
              "  .colab-df-quickchart-complete:disabled,\n",
              "  .colab-df-quickchart-complete:disabled:hover {\n",
              "    background-color: var(--disabled-bg-color);\n",
              "    fill: var(--disabled-fill-color);\n",
              "    box-shadow: none;\n",
              "  }\n",
              "\n",
              "  .colab-df-spinner {\n",
              "    border: 2px solid var(--fill-color);\n",
              "    border-color: transparent;\n",
              "    border-bottom-color: var(--fill-color);\n",
              "    animation:\n",
              "      spin 1s steps(1) infinite;\n",
              "  }\n",
              "\n",
              "  @keyframes spin {\n",
              "    0% {\n",
              "      border-color: transparent;\n",
              "      border-bottom-color: var(--fill-color);\n",
              "      border-left-color: var(--fill-color);\n",
              "    }\n",
              "    20% {\n",
              "      border-color: transparent;\n",
              "      border-left-color: var(--fill-color);\n",
              "      border-top-color: var(--fill-color);\n",
              "    }\n",
              "    30% {\n",
              "      border-color: transparent;\n",
              "      border-left-color: var(--fill-color);\n",
              "      border-top-color: var(--fill-color);\n",
              "      border-right-color: var(--fill-color);\n",
              "    }\n",
              "    40% {\n",
              "      border-color: transparent;\n",
              "      border-right-color: var(--fill-color);\n",
              "      border-top-color: var(--fill-color);\n",
              "    }\n",
              "    60% {\n",
              "      border-color: transparent;\n",
              "      border-right-color: var(--fill-color);\n",
              "    }\n",
              "    80% {\n",
              "      border-color: transparent;\n",
              "      border-right-color: var(--fill-color);\n",
              "      border-bottom-color: var(--fill-color);\n",
              "    }\n",
              "    90% {\n",
              "      border-color: transparent;\n",
              "      border-bottom-color: var(--fill-color);\n",
              "    }\n",
              "  }\n",
              "</style>\n",
              "\n",
              "  <script>\n",
              "    async function quickchart(key) {\n",
              "      const quickchartButtonEl =\n",
              "        document.querySelector('#' + key + ' button');\n",
              "      quickchartButtonEl.disabled = true;  // To prevent multiple clicks.\n",
              "      quickchartButtonEl.classList.add('colab-df-spinner');\n",
              "      try {\n",
              "        const charts = await google.colab.kernel.invokeFunction(\n",
              "            'suggestCharts', [key], {});\n",
              "      } catch (error) {\n",
              "        console.error('Error during call to suggestCharts:', error);\n",
              "      }\n",
              "      quickchartButtonEl.classList.remove('colab-df-spinner');\n",
              "      quickchartButtonEl.classList.add('colab-df-quickchart-complete');\n",
              "    }\n",
              "    (() => {\n",
              "      let quickchartButtonEl =\n",
              "        document.querySelector('#df-8c609b43-2834-466f-88f5-f4ae60c961e2 button');\n",
              "      quickchartButtonEl.style.display =\n",
              "        google.colab.kernel.accessAllowed ? 'block' : 'none';\n",
              "    })();\n",
              "  </script>\n",
              "</div>\n",
              "\n",
              "  <div id=\"id_c7514591-312e-4c25-9254-1481d099d66a\">\n",
              "    <style>\n",
              "      .colab-df-generate {\n",
              "        background-color: #E8F0FE;\n",
              "        border: none;\n",
              "        border-radius: 50%;\n",
              "        cursor: pointer;\n",
              "        display: none;\n",
              "        fill: #1967D2;\n",
              "        height: 32px;\n",
              "        padding: 0 0 0 0;\n",
              "        width: 32px;\n",
              "      }\n",
              "\n",
              "      .colab-df-generate:hover {\n",
              "        background-color: #E2EBFA;\n",
              "        box-shadow: 0px 1px 2px rgba(60, 64, 67, 0.3), 0px 1px 3px 1px rgba(60, 64, 67, 0.15);\n",
              "        fill: #174EA6;\n",
              "      }\n",
              "\n",
              "      [theme=dark] .colab-df-generate {\n",
              "        background-color: #3B4455;\n",
              "        fill: #D2E3FC;\n",
              "      }\n",
              "\n",
              "      [theme=dark] .colab-df-generate:hover {\n",
              "        background-color: #434B5C;\n",
              "        box-shadow: 0px 1px 3px 1px rgba(0, 0, 0, 0.15);\n",
              "        filter: drop-shadow(0px 1px 2px rgba(0, 0, 0, 0.3));\n",
              "        fill: #FFFFFF;\n",
              "      }\n",
              "    </style>\n",
              "    <button class=\"colab-df-generate\" onclick=\"generateWithVariable('december_2024_complaints')\"\n",
              "            title=\"Generate code using this dataframe.\"\n",
              "            style=\"display:none;\">\n",
              "\n",
              "  <svg xmlns=\"http://www.w3.org/2000/svg\" height=\"24px\"viewBox=\"0 0 24 24\"\n",
              "       width=\"24px\">\n",
              "    <path d=\"M7,19H8.4L18.45,9,17,7.55,7,17.6ZM5,21V16.75L18.45,3.32a2,2,0,0,1,2.83,0l1.4,1.43a1.91,1.91,0,0,1,.58,1.4,1.91,1.91,0,0,1-.58,1.4L9.25,21ZM18.45,9,17,7.55Zm-12,3A5.31,5.31,0,0,0,4.9,8.1,5.31,5.31,0,0,0,1,6.5,5.31,5.31,0,0,0,4.9,4.9,5.31,5.31,0,0,0,6.5,1,5.31,5.31,0,0,0,8.1,4.9,5.31,5.31,0,0,0,12,6.5,5.46,5.46,0,0,0,6.5,12Z\"/>\n",
              "  </svg>\n",
              "    </button>\n",
              "    <script>\n",
              "      (() => {\n",
              "      const buttonEl =\n",
              "        document.querySelector('#id_c7514591-312e-4c25-9254-1481d099d66a button.colab-df-generate');\n",
              "      buttonEl.style.display =\n",
              "        google.colab.kernel.accessAllowed ? 'block' : 'none';\n",
              "\n",
              "      buttonEl.onclick = () => {\n",
              "        google.colab.notebook.generateWithVariable('december_2024_complaints');\n",
              "      }\n",
              "      })();\n",
              "    </script>\n",
              "  </div>\n",
              "\n",
              "    </div>\n",
              "  </div>\n"
            ],
            "text/plain": [
              "    rate                                           title  \\\n",
              "15     5             I have used this company before on…   \n",
              "18     4               Travel insurance for Vietnam tour   \n",
              "24     4           I’ve used this insurance for quite a…   \n",
              "25     5        It was an insurance product and the 2nd…   \n",
              "35     5                          The process was smooth   \n",
              "45     5                                Simple and Easy    \n",
              "48     5         My flight was delayed for a day due to…   \n",
              "49     5  Wonderful options and great customer service!    \n",
              "56     5                       To the rescue once again.   \n",
              "69     1            Virtually impossible to file a claim   \n",
              "73     3  Very unclear phrasing that hides their intent.   \n",
              "75     1                                Terrible Process   \n",
              "106    5              We had no cause to use the Travel…   \n",
              "113    3                   New Years Insurance Coverage    \n",
              "117    3        Because using the wrong name to do this…   \n",
              "139    1            Buyer Beware - Travel Insured Intl'    \n",
              "149    5                   The process was easy and the…   \n",
              "\n",
              "                                               content review_date  \n",
              "15   I have used this company before on previous tr...  2024-12-21  \n",
              "18   I had to buy travel insurance to go on a NatGe...  2024-12-19  \n",
              "24   I’ve used this insurance for quite a few trips...  2024-12-25  \n",
              "25   It was an insurance product and the 2nd time I...  2024-12-05  \n",
              "35   The process was smooth. I called answered a fe...  2024-12-13  \n",
              "45   Simple and easy to apply for and purchase.Just...  2024-12-04  \n",
              "48   My flight was delayed for a day due to fog at ...  2024-12-16  \n",
              "49   As a travel advisor I really appreciate that m...  2024-12-15  \n",
              "56   I had an injury on our cruise that involved a ...  2024-12-26  \n",
              "69   Virtually impossible to file a claim, everythi...  2024-12-01  \n",
              "73   I was disappointed to find that my purchased p...  2024-12-10  \n",
              "75   When I finally was notified the claim was appr...  2024-12-12  \n",
              "106  We had no cause to use the Travel Protection P...  2024-12-05  \n",
              "113  The insurance provided a level of security tha...  2024-12-29  \n",
              "117    Because using the wrong name to do this survey   2024-12-26  \n",
              "139  Travel Insured International is a great compan...  2024-12-07  \n",
              "149  The process was easy and the representative wa...  2024-12-16  "
            ]
          },
          "execution_count": 66,
          "metadata": {},
          "output_type": "execute_result"
        }
      ],
      "source": [
        "# Filter for reviews in December 2024\n",
        "december_2024_complaints = TII_reviews_df[\n",
        "    (TII_reviews_df['review_date'].dt.year == 2024) &\n",
        "    (TII_reviews_df['review_date'].dt.month == 12)\n",
        "]\n",
        "\n",
        "december_2024_complaints"
      ]
    },
    {
      "cell_type": "code",
      "execution_count": null,
      "metadata": {
        "colab": {
          "base_uri": "https://localhost:8080/",
          "height": 686
        },
        "id": "MkYu4bcoHd2B",
        "outputId": "5655b9c3-1d87-44de-9d54-4c693ecf3994"
      },
      "outputs": [
        {
          "data": {
            "application/vnd.google.colaboratory.intrinsic+json": {
              "repr_error": "0",
              "type": "dataframe",
              "variable_name": "TII_reviews_df_2022"
            },
            "text/html": [
              "\n",
              "  <div id=\"df-5aec165e-a7f5-44a7-a406-09ff3a23fa62\" class=\"colab-df-container\">\n",
              "    <div>\n",
              "<style scoped>\n",
              "    .dataframe tbody tr th:only-of-type {\n",
              "        vertical-align: middle;\n",
              "    }\n",
              "\n",
              "    .dataframe tbody tr th {\n",
              "        vertical-align: top;\n",
              "    }\n",
              "\n",
              "    .dataframe thead th {\n",
              "        text-align: right;\n",
              "    }\n",
              "</style>\n",
              "<table border=\"1\" class=\"dataframe\">\n",
              "  <thead>\n",
              "    <tr style=\"text-align: right;\">\n",
              "      <th></th>\n",
              "      <th>rate</th>\n",
              "      <th>title</th>\n",
              "      <th>content</th>\n",
              "      <th>review_date</th>\n",
              "    </tr>\n",
              "  </thead>\n",
              "  <tbody>\n",
              "    <tr>\n",
              "      <th>855</th>\n",
              "      <td>2</td>\n",
              "      <td>Made one medical claim that was never…</td>\n",
              "      <td>Made one medical claim that was never paid.  N...</td>\n",
              "      <td>2022-09-01</td>\n",
              "    </tr>\n",
              "    <tr>\n",
              "      <th>856</th>\n",
              "      <td>5</td>\n",
              "      <td>Our flight was delayed for four days…</td>\n",
              "      <td>Our flight was delayed for four days due to co...</td>\n",
              "      <td>2022-12-28</td>\n",
              "    </tr>\n",
              "    <tr>\n",
              "      <th>862</th>\n",
              "      <td>5</td>\n",
              "      <td>Highly recommend</td>\n",
              "      <td>Travel Insured International has wonderful cus...</td>\n",
              "      <td>2022-10-10</td>\n",
              "    </tr>\n",
              "    <tr>\n",
              "      <th>864</th>\n",
              "      <td>5</td>\n",
              "      <td>We are lucky to say we have not had to…</td>\n",
              "      <td>We are lucky to say we have not had to make an...</td>\n",
              "      <td>2022-11-25</td>\n",
              "    </tr>\n",
              "    <tr>\n",
              "      <th>869</th>\n",
              "      <td>1</td>\n",
              "      <td>I filed a claim in October of 2022 and…</td>\n",
              "      <td>I filed a claim in October of 2022 and still h...</td>\n",
              "      <td>2022-10-02</td>\n",
              "    </tr>\n",
              "    <tr>\n",
              "      <th>876</th>\n",
              "      <td>3</td>\n",
              "      <td>Cannot rate without a claim  There is no way t...</td>\n",
              "      <td>Thre is no way to rate my experience until I h...</td>\n",
              "      <td>2022-11-20</td>\n",
              "    </tr>\n",
              "    <tr>\n",
              "      <th>884</th>\n",
              "      <td>5</td>\n",
              "      <td>The thing that made my experience good…A Piece...</td>\n",
              "      <td>The thing that made my experience good is that...</td>\n",
              "      <td>2022-11-03</td>\n",
              "    </tr>\n",
              "    <tr>\n",
              "      <th>895</th>\n",
              "      <td>1</td>\n",
              "      <td>TravelInsured.com - Avoid like the plague</td>\n",
              "      <td>I have a hard time believing that Travel insur...</td>\n",
              "      <td>2022-10-07</td>\n",
              "    </tr>\n",
              "    <tr>\n",
              "      <th>896</th>\n",
              "      <td>1</td>\n",
              "      <td>Still waiting almost seven months after…</td>\n",
              "      <td>Still waiting almost seven months after my VAL...</td>\n",
              "      <td>2022-06-04</td>\n",
              "    </tr>\n",
              "    <tr>\n",
              "      <th>897</th>\n",
              "      <td>1</td>\n",
              "      <td>I sent in a claim on September 7th and…</td>\n",
              "      <td>I sent in a claim on September 7th and was fin...</td>\n",
              "      <td>2022-10-27</td>\n",
              "    </tr>\n",
              "    <tr>\n",
              "      <th>898</th>\n",
              "      <td>1</td>\n",
              "      <td>Don't believe all their promises</td>\n",
              "      <td>I have used them a lotThis is now the first ti...</td>\n",
              "      <td>2022-12-12</td>\n",
              "    </tr>\n",
              "    <tr>\n",
              "      <th>899</th>\n",
              "      <td>1</td>\n",
              "      <td>I was unable to travel to an…</td>\n",
              "      <td>I was unable to travel to an International Liv...</td>\n",
              "      <td>2022-10-24</td>\n",
              "    </tr>\n",
              "  </tbody>\n",
              "</table>\n",
              "</div>\n",
              "    <div class=\"colab-df-buttons\">\n",
              "\n",
              "  <div class=\"colab-df-container\">\n",
              "    <button class=\"colab-df-convert\" onclick=\"convertToInteractive('df-5aec165e-a7f5-44a7-a406-09ff3a23fa62')\"\n",
              "            title=\"Convert this dataframe to an interactive table.\"\n",
              "            style=\"display:none;\">\n",
              "\n",
              "  <svg xmlns=\"http://www.w3.org/2000/svg\" height=\"24px\" viewBox=\"0 -960 960 960\">\n",
              "    <path d=\"M120-120v-720h720v720H120Zm60-500h600v-160H180v160Zm220 220h160v-160H400v160Zm0 220h160v-160H400v160ZM180-400h160v-160H180v160Zm440 0h160v-160H620v160ZM180-180h160v-160H180v160Zm440 0h160v-160H620v160Z\"/>\n",
              "  </svg>\n",
              "    </button>\n",
              "\n",
              "  <style>\n",
              "    .colab-df-container {\n",
              "      display:flex;\n",
              "      gap: 12px;\n",
              "    }\n",
              "\n",
              "    .colab-df-convert {\n",
              "      background-color: #E8F0FE;\n",
              "      border: none;\n",
              "      border-radius: 50%;\n",
              "      cursor: pointer;\n",
              "      display: none;\n",
              "      fill: #1967D2;\n",
              "      height: 32px;\n",
              "      padding: 0 0 0 0;\n",
              "      width: 32px;\n",
              "    }\n",
              "\n",
              "    .colab-df-convert:hover {\n",
              "      background-color: #E2EBFA;\n",
              "      box-shadow: 0px 1px 2px rgba(60, 64, 67, 0.3), 0px 1px 3px 1px rgba(60, 64, 67, 0.15);\n",
              "      fill: #174EA6;\n",
              "    }\n",
              "\n",
              "    .colab-df-buttons div {\n",
              "      margin-bottom: 4px;\n",
              "    }\n",
              "\n",
              "    [theme=dark] .colab-df-convert {\n",
              "      background-color: #3B4455;\n",
              "      fill: #D2E3FC;\n",
              "    }\n",
              "\n",
              "    [theme=dark] .colab-df-convert:hover {\n",
              "      background-color: #434B5C;\n",
              "      box-shadow: 0px 1px 3px 1px rgba(0, 0, 0, 0.15);\n",
              "      filter: drop-shadow(0px 1px 2px rgba(0, 0, 0, 0.3));\n",
              "      fill: #FFFFFF;\n",
              "    }\n",
              "  </style>\n",
              "\n",
              "    <script>\n",
              "      const buttonEl =\n",
              "        document.querySelector('#df-5aec165e-a7f5-44a7-a406-09ff3a23fa62 button.colab-df-convert');\n",
              "      buttonEl.style.display =\n",
              "        google.colab.kernel.accessAllowed ? 'block' : 'none';\n",
              "\n",
              "      async function convertToInteractive(key) {\n",
              "        const element = document.querySelector('#df-5aec165e-a7f5-44a7-a406-09ff3a23fa62');\n",
              "        const dataTable =\n",
              "          await google.colab.kernel.invokeFunction('convertToInteractive',\n",
              "                                                    [key], {});\n",
              "        if (!dataTable) return;\n",
              "\n",
              "        const docLinkHtml = 'Like what you see? Visit the ' +\n",
              "          '<a target=\"_blank\" href=https://colab.research.google.com/notebooks/data_table.ipynb>data table notebook</a>'\n",
              "          + ' to learn more about interactive tables.';\n",
              "        element.innerHTML = '';\n",
              "        dataTable['output_type'] = 'display_data';\n",
              "        await google.colab.output.renderOutput(dataTable, element);\n",
              "        const docLink = document.createElement('div');\n",
              "        docLink.innerHTML = docLinkHtml;\n",
              "        element.appendChild(docLink);\n",
              "      }\n",
              "    </script>\n",
              "  </div>\n",
              "\n",
              "\n",
              "<div id=\"df-01415a1a-4917-48b5-a03b-12747d251a50\">\n",
              "  <button class=\"colab-df-quickchart\" onclick=\"quickchart('df-01415a1a-4917-48b5-a03b-12747d251a50')\"\n",
              "            title=\"Suggest charts\"\n",
              "            style=\"display:none;\">\n",
              "\n",
              "<svg xmlns=\"http://www.w3.org/2000/svg\" height=\"24px\"viewBox=\"0 0 24 24\"\n",
              "     width=\"24px\">\n",
              "    <g>\n",
              "        <path d=\"M19 3H5c-1.1 0-2 .9-2 2v14c0 1.1.9 2 2 2h14c1.1 0 2-.9 2-2V5c0-1.1-.9-2-2-2zM9 17H7v-7h2v7zm4 0h-2V7h2v10zm4 0h-2v-4h2v4z\"/>\n",
              "    </g>\n",
              "</svg>\n",
              "  </button>\n",
              "\n",
              "<style>\n",
              "  .colab-df-quickchart {\n",
              "      --bg-color: #E8F0FE;\n",
              "      --fill-color: #1967D2;\n",
              "      --hover-bg-color: #E2EBFA;\n",
              "      --hover-fill-color: #174EA6;\n",
              "      --disabled-fill-color: #AAA;\n",
              "      --disabled-bg-color: #DDD;\n",
              "  }\n",
              "\n",
              "  [theme=dark] .colab-df-quickchart {\n",
              "      --bg-color: #3B4455;\n",
              "      --fill-color: #D2E3FC;\n",
              "      --hover-bg-color: #434B5C;\n",
              "      --hover-fill-color: #FFFFFF;\n",
              "      --disabled-bg-color: #3B4455;\n",
              "      --disabled-fill-color: #666;\n",
              "  }\n",
              "\n",
              "  .colab-df-quickchart {\n",
              "    background-color: var(--bg-color);\n",
              "    border: none;\n",
              "    border-radius: 50%;\n",
              "    cursor: pointer;\n",
              "    display: none;\n",
              "    fill: var(--fill-color);\n",
              "    height: 32px;\n",
              "    padding: 0;\n",
              "    width: 32px;\n",
              "  }\n",
              "\n",
              "  .colab-df-quickchart:hover {\n",
              "    background-color: var(--hover-bg-color);\n",
              "    box-shadow: 0 1px 2px rgba(60, 64, 67, 0.3), 0 1px 3px 1px rgba(60, 64, 67, 0.15);\n",
              "    fill: var(--button-hover-fill-color);\n",
              "  }\n",
              "\n",
              "  .colab-df-quickchart-complete:disabled,\n",
              "  .colab-df-quickchart-complete:disabled:hover {\n",
              "    background-color: var(--disabled-bg-color);\n",
              "    fill: var(--disabled-fill-color);\n",
              "    box-shadow: none;\n",
              "  }\n",
              "\n",
              "  .colab-df-spinner {\n",
              "    border: 2px solid var(--fill-color);\n",
              "    border-color: transparent;\n",
              "    border-bottom-color: var(--fill-color);\n",
              "    animation:\n",
              "      spin 1s steps(1) infinite;\n",
              "  }\n",
              "\n",
              "  @keyframes spin {\n",
              "    0% {\n",
              "      border-color: transparent;\n",
              "      border-bottom-color: var(--fill-color);\n",
              "      border-left-color: var(--fill-color);\n",
              "    }\n",
              "    20% {\n",
              "      border-color: transparent;\n",
              "      border-left-color: var(--fill-color);\n",
              "      border-top-color: var(--fill-color);\n",
              "    }\n",
              "    30% {\n",
              "      border-color: transparent;\n",
              "      border-left-color: var(--fill-color);\n",
              "      border-top-color: var(--fill-color);\n",
              "      border-right-color: var(--fill-color);\n",
              "    }\n",
              "    40% {\n",
              "      border-color: transparent;\n",
              "      border-right-color: var(--fill-color);\n",
              "      border-top-color: var(--fill-color);\n",
              "    }\n",
              "    60% {\n",
              "      border-color: transparent;\n",
              "      border-right-color: var(--fill-color);\n",
              "    }\n",
              "    80% {\n",
              "      border-color: transparent;\n",
              "      border-right-color: var(--fill-color);\n",
              "      border-bottom-color: var(--fill-color);\n",
              "    }\n",
              "    90% {\n",
              "      border-color: transparent;\n",
              "      border-bottom-color: var(--fill-color);\n",
              "    }\n",
              "  }\n",
              "</style>\n",
              "\n",
              "  <script>\n",
              "    async function quickchart(key) {\n",
              "      const quickchartButtonEl =\n",
              "        document.querySelector('#' + key + ' button');\n",
              "      quickchartButtonEl.disabled = true;  // To prevent multiple clicks.\n",
              "      quickchartButtonEl.classList.add('colab-df-spinner');\n",
              "      try {\n",
              "        const charts = await google.colab.kernel.invokeFunction(\n",
              "            'suggestCharts', [key], {});\n",
              "      } catch (error) {\n",
              "        console.error('Error during call to suggestCharts:', error);\n",
              "      }\n",
              "      quickchartButtonEl.classList.remove('colab-df-spinner');\n",
              "      quickchartButtonEl.classList.add('colab-df-quickchart-complete');\n",
              "    }\n",
              "    (() => {\n",
              "      let quickchartButtonEl =\n",
              "        document.querySelector('#df-01415a1a-4917-48b5-a03b-12747d251a50 button');\n",
              "      quickchartButtonEl.style.display =\n",
              "        google.colab.kernel.accessAllowed ? 'block' : 'none';\n",
              "    })();\n",
              "  </script>\n",
              "</div>\n",
              "\n",
              "  <div id=\"id_b8823e95-15f7-4196-b270-4bdfbe9af6a4\">\n",
              "    <style>\n",
              "      .colab-df-generate {\n",
              "        background-color: #E8F0FE;\n",
              "        border: none;\n",
              "        border-radius: 50%;\n",
              "        cursor: pointer;\n",
              "        display: none;\n",
              "        fill: #1967D2;\n",
              "        height: 32px;\n",
              "        padding: 0 0 0 0;\n",
              "        width: 32px;\n",
              "      }\n",
              "\n",
              "      .colab-df-generate:hover {\n",
              "        background-color: #E2EBFA;\n",
              "        box-shadow: 0px 1px 2px rgba(60, 64, 67, 0.3), 0px 1px 3px 1px rgba(60, 64, 67, 0.15);\n",
              "        fill: #174EA6;\n",
              "      }\n",
              "\n",
              "      [theme=dark] .colab-df-generate {\n",
              "        background-color: #3B4455;\n",
              "        fill: #D2E3FC;\n",
              "      }\n",
              "\n",
              "      [theme=dark] .colab-df-generate:hover {\n",
              "        background-color: #434B5C;\n",
              "        box-shadow: 0px 1px 3px 1px rgba(0, 0, 0, 0.15);\n",
              "        filter: drop-shadow(0px 1px 2px rgba(0, 0, 0, 0.3));\n",
              "        fill: #FFFFFF;\n",
              "      }\n",
              "    </style>\n",
              "    <button class=\"colab-df-generate\" onclick=\"generateWithVariable('TII_reviews_df_2022')\"\n",
              "            title=\"Generate code using this dataframe.\"\n",
              "            style=\"display:none;\">\n",
              "\n",
              "  <svg xmlns=\"http://www.w3.org/2000/svg\" height=\"24px\"viewBox=\"0 0 24 24\"\n",
              "       width=\"24px\">\n",
              "    <path d=\"M7,19H8.4L18.45,9,17,7.55,7,17.6ZM5,21V16.75L18.45,3.32a2,2,0,0,1,2.83,0l1.4,1.43a1.91,1.91,0,0,1,.58,1.4,1.91,1.91,0,0,1-.58,1.4L9.25,21ZM18.45,9,17,7.55Zm-12,3A5.31,5.31,0,0,0,4.9,8.1,5.31,5.31,0,0,0,1,6.5,5.31,5.31,0,0,0,4.9,4.9,5.31,5.31,0,0,0,6.5,1,5.31,5.31,0,0,0,8.1,4.9,5.31,5.31,0,0,0,12,6.5,5.46,5.46,0,0,0,6.5,12Z\"/>\n",
              "  </svg>\n",
              "    </button>\n",
              "    <script>\n",
              "      (() => {\n",
              "      const buttonEl =\n",
              "        document.querySelector('#id_b8823e95-15f7-4196-b270-4bdfbe9af6a4 button.colab-df-generate');\n",
              "      buttonEl.style.display =\n",
              "        google.colab.kernel.accessAllowed ? 'block' : 'none';\n",
              "\n",
              "      buttonEl.onclick = () => {\n",
              "        google.colab.notebook.generateWithVariable('TII_reviews_df_2022');\n",
              "      }\n",
              "      })();\n",
              "    </script>\n",
              "  </div>\n",
              "\n",
              "    </div>\n",
              "  </div>\n"
            ],
            "text/plain": [
              "    rate                                              title  \\\n",
              "855    2             Made one medical claim that was never…   \n",
              "856    5              Our flight was delayed for four days…   \n",
              "862    5                                   Highly recommend   \n",
              "864    5            We are lucky to say we have not had to…   \n",
              "869    1            I filed a claim in October of 2022 and…   \n",
              "876    3  Cannot rate without a claim  There is no way t...   \n",
              "884    5  The thing that made my experience good…A Piece...   \n",
              "895    1          TravelInsured.com - Avoid like the plague   \n",
              "896    1           Still waiting almost seven months after…   \n",
              "897    1            I sent in a claim on September 7th and…   \n",
              "898    1                   Don't believe all their promises   \n",
              "899    1                      I was unable to travel to an…   \n",
              "\n",
              "                                               content review_date  \n",
              "855  Made one medical claim that was never paid.  N...  2022-09-01  \n",
              "856  Our flight was delayed for four days due to co...  2022-12-28  \n",
              "862  Travel Insured International has wonderful cus...  2022-10-10  \n",
              "864  We are lucky to say we have not had to make an...  2022-11-25  \n",
              "869  I filed a claim in October of 2022 and still h...  2022-10-02  \n",
              "876  Thre is no way to rate my experience until I h...  2022-11-20  \n",
              "884  The thing that made my experience good is that...  2022-11-03  \n",
              "895  I have a hard time believing that Travel insur...  2022-10-07  \n",
              "896  Still waiting almost seven months after my VAL...  2022-06-04  \n",
              "897  I sent in a claim on September 7th and was fin...  2022-10-27  \n",
              "898  I have used them a lotThis is now the first ti...  2022-12-12  \n",
              "899  I was unable to travel to an International Liv...  2022-10-24  "
            ]
          },
          "execution_count": 67,
          "metadata": {},
          "output_type": "execute_result"
        }
      ],
      "source": [
        "# Filter reviews for the year 2022\n",
        "TII_reviews_df_2022 = TII_reviews_df[TII_reviews_df['review_date'].dt.year == 2022]\n",
        "\n",
        "TII_reviews_df_2022"
      ]
    },
    {
      "cell_type": "code",
      "execution_count": null,
      "metadata": {
        "colab": {
          "base_uri": "https://localhost:8080/"
        },
        "id": "0o_cDZ1BKREM",
        "outputId": "2eaa3b58-3d25-4a20-a8c2-003a2359bd4f"
      },
      "outputs": [
        {
          "data": {
            "text/plain": [
              "(12, 4)"
            ]
          },
          "execution_count": 68,
          "metadata": {},
          "output_type": "execute_result"
        }
      ],
      "source": [
        "TII_reviews_df_2022.shape"
      ]
    },
    {
      "cell_type": "code",
      "execution_count": null,
      "metadata": {
        "colab": {
          "base_uri": "https://localhost:8080/"
        },
        "id": "I51fEGUabW20",
        "outputId": "94d9da60-2482-4fd7-bdfd-5a0b8e878967"
      },
      "outputs": [
        {
          "data": {
            "text/plain": [
              "str"
            ]
          },
          "execution_count": 69,
          "metadata": {},
          "output_type": "execute_result"
        }
      ],
      "source": [
        "type(TII_reviews_df['title'][0])"
      ]
    },
    {
      "cell_type": "markdown",
      "metadata": {
        "id": "z_2YmQUOYAb9"
      },
      "source": [
        "Fusion Title-Content"
      ]
    },
    {
      "cell_type": "code",
      "execution_count": null,
      "metadata": {
        "colab": {
          "base_uri": "https://localhost:8080/"
        },
        "id": "G6pNCVbz0r2Y",
        "outputId": "d6501a0a-3e28-487c-d01b-a9731c6b4759"
      },
      "outputs": [
        {
          "data": {
            "text/plain": [
              "True"
            ]
          },
          "execution_count": 70,
          "metadata": {},
          "output_type": "execute_result"
        }
      ],
      "source": [
        "TII_reviews_df['title'][899].endswith(\"…\")"
      ]
    },
    {
      "cell_type": "code",
      "execution_count": null,
      "metadata": {
        "colab": {
          "base_uri": "https://localhost:8080/",
          "height": 35
        },
        "id": "xJ1MUNzBv_g4",
        "outputId": "7d411b11-1132-4723-c6af-b4465719b2fe"
      },
      "outputs": [
        {
          "data": {
            "application/vnd.google.colaboratory.intrinsic+json": {
              "type": "string"
            },
            "text/plain": [
              "'I was unable to travel to an'"
            ]
          },
          "execution_count": 71,
          "metadata": {},
          "output_type": "execute_result"
        }
      ],
      "source": [
        "TII_reviews_df['title'][899][:-1]"
      ]
    },
    {
      "cell_type": "code",
      "execution_count": null,
      "metadata": {
        "colab": {
          "base_uri": "https://localhost:8080/"
        },
        "id": "uSppxlqWXzSS",
        "outputId": "59c0bd9f-4fcc-4434-f35f-66ea9493b48e"
      },
      "outputs": [
        {
          "name": "stdout",
          "output_type": "stream",
          "text": [
            "                                         title  \\\n",
            "0                          Better Than Thought   \n",
            "1       Fortunately we didn’t have to use our…   \n",
            "2               Insurance was easy to purchase   \n",
            "3                                Peace of mind   \n",
            "4                           ABC ruise coverage   \n",
            "..                                         ...   \n",
            "895  TravelInsured.com - Avoid like the plague   \n",
            "896   Still waiting almost seven months after…   \n",
            "897    I sent in a claim on September 7th and…   \n",
            "898           Don't believe all their promises   \n",
            "899              I was unable to travel to an…   \n",
            "\n",
            "                                               content  \\\n",
            "0    We purchased a travel plan from Travel Insured...   \n",
            "1    Fortunately we didn’t have to use our travel i...   \n",
            "2    Insurance was easy to purchase online & gave m...   \n",
            "3    Isabel took care of our travel insurance needs...   \n",
            "4    Policy issued same day with good coverage expl...   \n",
            "..                                                 ...   \n",
            "895  I have a hard time believing that Travel insur...   \n",
            "896  Still waiting almost seven months after my VAL...   \n",
            "897  I sent in a claim on September 7th and was fin...   \n",
            "898  I have used them a lotThis is now the first ti...   \n",
            "899  I was unable to travel to an International Liv...   \n",
            "\n",
            "                                               Reviews  \n",
            "0    Better Than Thought. We purchased a travel pla...  \n",
            "1    Fortunately we didn’t have to use our travel i...  \n",
            "2    Insurance was easy to purchase online & gave m...  \n",
            "3    Peace of mind. Isabel took care of our travel ...  \n",
            "4    ABC ruise coverage. Policy issued same day wit...  \n",
            "..                                                 ...  \n",
            "895  TravelInsured.com - Avoid like the plague. I h...  \n",
            "896  Still waiting almost seven months after my VAL...  \n",
            "897  I sent in a claim on September 7th and was fin...  \n",
            "898  Don't believe all their promises. I have used ...  \n",
            "899  I was unable to travel to an International Liv...  \n",
            "\n",
            "[900 rows x 3 columns]\n"
          ]
        }
      ],
      "source": [
        "# Fonction pour fusionner correctement title et content\n",
        "def merge_title_content(row):\n",
        "    title, content = row[\"title\"], row[\"content\"]\n",
        "\n",
        "    # Handle None values for title and content\n",
        "    if title is None or content is None:\n",
        "        return content if content is not None else title  # Return whichever is not None, or None if both are None\n",
        "\n",
        "    # Supprimer les \"…\" à la fin du titre (s'il y en a)\n",
        "    if title.endswith(\"…\"):\n",
        "        title_cleaned = title[:-1]\n",
        "    else:\n",
        "        title_cleaned = title\n",
        "\n",
        "    # Vérifier si title_cleaned est bien au début de content\n",
        "    if content.lower().startswith(title_cleaned.lower()):\n",
        "        return content  # On garde uniquement content\n",
        "\n",
        "    # Sinon, on concatène title et content\n",
        "    return f\"{title_cleaned}. {content}\"\n",
        "\n",
        "# Appliquer la transformation\n",
        "TII_reviews_df[\"Reviews\"] = TII_reviews_df.apply(merge_title_content, axis=1)\n",
        "\n",
        "# Vérifier le résultat\n",
        "print(TII_reviews_df[[\"title\", \"content\", \"Reviews\"]])"
      ]
    },
    {
      "cell_type": "markdown",
      "metadata": {
        "id": "4XAjGA34WHTl"
      },
      "source": [
        "Les sentiments"
      ]
    },
    {
      "cell_type": "code",
      "execution_count": null,
      "metadata": {
        "colab": {
          "base_uri": "https://localhost:8080/"
        },
        "id": "GortPjA-fFdR",
        "outputId": "f96bac35-9e69-4594-c9c4-fe5f35729dd0"
      },
      "outputs": [
        {
          "name": "stdout",
          "output_type": "stream",
          "text": [
            "Collecting emoji\n",
            "  Downloading emoji-2.14.1-py3-none-any.whl.metadata (5.7 kB)\n",
            "Downloading emoji-2.14.1-py3-none-any.whl (590 kB)\n",
            "\u001b[2K   \u001b[90m━━━━━━━━━━━━━━━━━━━━━━━━━━━━━━━━━━━━━━━━\u001b[0m \u001b[32m590.6/590.6 kB\u001b[0m \u001b[31m4.9 MB/s\u001b[0m eta \u001b[36m0:00:00\u001b[0m\n",
            "\u001b[?25hInstalling collected packages: emoji\n",
            "Successfully installed emoji-2.14.1\n"
          ]
        }
      ],
      "source": [
        "!pip install emoji"
      ]
    },
    {
      "cell_type": "code",
      "execution_count": null,
      "metadata": {
        "id": "N7rALNnGVz_0"
      },
      "outputs": [],
      "source": [
        "import emoji\n",
        "import re\n",
        "from nltk.corpus import stopwords\n",
        "from nltk.stem import WordNetLemmatizer\n",
        "import nltk"
      ]
    },
    {
      "cell_type": "code",
      "execution_count": null,
      "metadata": {
        "colab": {
          "base_uri": "https://localhost:8080/"
        },
        "id": "uAzHJ8s1VyCT",
        "outputId": "c3259cd2-e123-4635-9fe0-76194eb882a2"
      },
      "outputs": [
        {
          "name": "stderr",
          "output_type": "stream",
          "text": [
            "[nltk_data] Downloading package stopwords to /root/nltk_data...\n",
            "[nltk_data]   Package stopwords is already up-to-date!\n",
            "[nltk_data] Downloading package wordnet to /root/nltk_data...\n"
          ]
        },
        {
          "data": {
            "text/plain": [
              "True"
            ]
          },
          "execution_count": 88,
          "metadata": {},
          "output_type": "execute_result"
        }
      ],
      "source": [
        "nltk.download('stopwords')\n",
        "nltk.download('wordnet')"
      ]
    },
    {
      "cell_type": "code",
      "execution_count": null,
      "metadata": {
        "id": "wmCGqnGfUfFO"
      },
      "outputs": [],
      "source": [
        "stop_words = set(stopwords.words('english'))\n",
        "lemmatizer = WordNetLemmatizer()\n",
        "\n",
        "def clean_text(text):\n",
        "    # Décodage des emojis\n",
        "    text = emoji.demojize(text, delimiters=(\"\", \"\"))  # Remplace les emojis par leur description textuelle\n",
        "    # Gestion des répétitions\n",
        "    text = re.sub(r'\\b(\\w+)\\s+\\1\\b', r'\\1', text)  # Supprime les mots répétés consécutifs\n",
        "    # Conversion en minuscules\n",
        "    text = text.lower()\n",
        "    # Suppression de la ponctuation et des chiffres\n",
        "    text = re.sub(r'[^a-zA-Z\\s]', '', text)\n",
        "    # Suppression des stop words et lemmatisation\n",
        "    text = ' '.join([lemmatizer.lemmatize(word) for word in text.split() if word not in stop_words])\n",
        "    return text"
      ]
    },
    {
      "cell_type": "code",
      "execution_count": null,
      "metadata": {
        "id": "7czEzL-BSjCi"
      },
      "outputs": [],
      "source": [
        "TII_reviews_df[\"Sentiment\"] = TII_reviews_df[\"Reviews\"].apply(clean_text).apply(review_sentiment)"
      ]
    },
    {
      "cell_type": "code",
      "execution_count": null,
      "metadata": {
        "id": "dtI0AUejJUNV"
      },
      "outputs": [],
      "source": [
        "TII_reviews_df.to_csv('Travel-Insured-International_Custumers_Reviews.csv', index=False)"
      ]
    },
    {
      "cell_type": "code",
      "execution_count": null,
      "metadata": {
        "id": "9980ToAp1pN2"
      },
      "outputs": [],
      "source": []
    }
  ],
  "metadata": {
    "colab": {
      "provenance": []
    },
    "kernelspec": {
      "display_name": "Python 3",
      "name": "python3"
    },
    "language_info": {
      "name": "python"
    }
  },
  "nbformat": 4,
  "nbformat_minor": 0
}
